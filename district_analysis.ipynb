{
 "metadata": {
  "language_info": {
   "codemirror_mode": {
    "name": "ipython",
    "version": 3
   },
   "file_extension": ".py",
   "mimetype": "text/x-python",
   "name": "python",
   "nbconvert_exporter": "python",
   "pygments_lexer": "ipython3",
   "version": "3.7.4-final"
  },
  "orig_nbformat": 2,
  "kernelspec": {
   "name": "python_defaultSpec_1600802520202",
   "display_name": "Python 3.7.4 64-bit ('base': conda)"
  }
 },
 "nbformat": 4,
 "nbformat_minor": 2,
 "cells": [
  {
   "cell_type": "code",
   "execution_count": 3,
   "metadata": {},
   "outputs": [],
   "source": [
    "import pandas as pd"
   ]
  },
  {
   "cell_type": "code",
   "execution_count": 4,
   "metadata": {},
   "outputs": [],
   "source": [
    "# File to Load\n",
    "school_data_to_load = \"schools_complete.csv\"\n",
    "student_data_to_load = \"students_complete.csv\"\n",
    "\n",
    "# Read School and Student Data File and store into Pandas Data Frames\n",
    "school_data = pd.read_csv(school_data_to_load)\n",
    "student_data = pd.read_csv(student_data_to_load)\n",
    "\n",
    "# Combine the data into a single dataset\n",
    "school_data_complete = pd.merge(student_data, school_data, how=\"left\", on=[\"school_name\", \"school_name\"])"
   ]
  },
  {
   "cell_type": "code",
   "execution_count": 7,
   "metadata": {},
   "outputs": [],
   "source": [
    "#District Summary variables\n",
    "\n",
    "#total_schools = school_data_complete[\"school_name\"].nunique()\n",
    "#total_students = len(school_data_complete[\"Student ID\"])\n",
    "#total_budget = school_data[\"budget\"].sum()\n",
    "#avg_mathscore = school_data_complete[\"math_score\"].mean()\n",
    "#avg_readingscore = school_data_complete[\"reading_score\"].mean()\n",
    "#percentpassmath = school_data_complete.loc[school_data_complete[\"math_score\"] >= 70, :]\n",
    "#district_passmath = (len(percentpassmath)/total_students)*100\n",
    "#percentpassreading = school_data_complete.loc[school_data_complete[\"reading_score\"] >= 70, :]\n",
    "#district_passreading = (len(percentpassreading)/total_students)*100\n",
    "#overallpassrate = (district_passmath + district_passreading)/2"
   ]
  },
  {
   "cell_type": "code",
   "execution_count": null,
   "metadata": {},
   "outputs": [],
   "source": [
    "#District Summary\n",
    "\n",
    "district_summary_df = pd.DataFrame({\"Total Schools\" : [total_schools],\n",
    "\"Total Students\": [total_students],\n",
    "\"Total Budget\": [total_budget],\n",
    "\"Average Math Score\": [avg_mathscore],\n",
    "\"Average Reading Score\": [avg_readingscore],\n",
    "\"Percent Passing Math\": [district_passmath],\n",
    "\"Percent Passing Reading\" : [district_passreading],\n",
    "\"Overall Passing Rate\" : [overallpassrate]})\n",
    "\n",
    "district_summary_df"
   ]
  },
  {
   "cell_type": "code",
   "execution_count": null,
   "metadata": {},
   "outputs": [],
   "source": [
    "#grouped_hs and school size variable\n",
    "\n",
    "grouped_hs_df = school_data_complete.groupby(['school_name'])\n",
    "print(grouped_hs_df)\n",
    "grouped_hs_df.mean()\n",
    "school_size = grouped_hs_df[\"size\"]\n",
    "school_size.count()"
   ]
  },
  {
   "cell_type": "code",
   "execution_count": null,
   "metadata": {},
   "outputs": [],
   "source": [
    "\n",
    "#school summary variables --> reading and math score data\n",
    "\n",
    "#math\n",
    "\n",
    "school_passmath = school_data_complete[school_data_complete[\"math_score\"] >= 70]\n",
    "mathsummary_hs_df = school_passmath.groupby(['school_name'])\n",
    "print(mathsummary_hs_df)\n",
    "mathsummary_hs_df.count()\n",
    "math_summary = mathsummary_hs_df.count()\n",
    "math_summary[\"math_score\"]\n",
    "school_math_summary = math_summary[\"math_score\"]\n",
    "school_avgmath = grouped_hs_df[\"math_score\"].mean()\n",
    "schoolpercentpassmath = (school_math_summary/school_size.count())*100\n",
    "\n",
    "#reading\n",
    "\n",
    "school_passreading = school_data_complete[school_data_complete[\"reading_score\"] >= 70]\n",
    "readingsummary_hs_df = school_passreading.groupby(['school_name'])\n",
    "print(readingsummary_hs_df)\n",
    "readingsummary_hs_df.count()\n",
    "read_summary = readingsummary_hs_df.count()\n",
    "read_summary[\"reading_score\"]\n",
    "school_read_summary = read_summary[\"reading_score\"]\n",
    "school_avgreading = grouped_hs_df[\"reading_score\"].mean()\n",
    "schoolpercentpassreading = (school_read_summary/school_size.count())*100"
   ]
  },
  {
   "cell_type": "code",
   "execution_count": null,
   "metadata": {},
   "outputs": [],
   "source": [
    "\n",
    "#school summary variables that came from the original school data\n",
    "\n",
    "school_type = school_data[\"type\"]\n",
    "school_name = school_data[\"school_name\"]\n",
    "school_students = school_data[\"size\"]\n",
    "school_budget = school_data[\"budget\"]\n",
    "perstudent_budget = (school_budget/school_students)"
   ]
  },
  {
   "cell_type": "code",
   "execution_count": null,
   "metadata": {},
   "outputs": [],
   "source": [
    "#create school summary overview dataframe\n",
    "\n",
    "schoolsummary_df = pd.DataFrame({\"School Name\" : school_name,\n",
    "    \"School Type\" : school_type,\n",
    "    \"Total Students\" : school_students,\n",
    "    \"Total School Budget\" : school_budget, \n",
    "    \"Per Student Budget\" : perstudent_budget\n",
    "    })\n",
    "schoolsummary_df = schoolsummary_df.set_index(\"School Name\")\n",
    "schoolsummary_df[\"Average Math Score\"] = school_avgmath\n",
    "schoolsummary_df[\"Average Reading Score\"] = school_avgreading\n",
    "schoolsummary_df[\"Percent Passing Reading\"] = schoolpercentpassreading\n",
    "schoolsummary_df[\"Percent Passing Math\"] = schoolpercentpassmath\n",
    "schoolsummary_df[\"Overall Passing Rate\"] = (schoolpercentpassmath + schoolpercentpassreading)/2\n",
    "schoolsummary_df"
   ]
  },
  {
   "cell_type": "code",
   "execution_count": null,
   "metadata": {},
   "outputs": [],
   "source": [
    "#Sort the school summary data frame by overall passing rate from highest to lowest\n",
    "\n",
    "schoolsummary_df.sort_values (\"Overall Passing Rate\", ascending=False)\n",
    "school_summary_sorted_descending_df = schoolsummary_df.sort_values (\"Overall Passing Rate\", ascending=False)\n",
    "school_summary_sorted_descending_df"
   ]
  },
  {
   "cell_type": "code",
   "execution_count": null,
   "metadata": {},
   "outputs": [],
   "source": [
    "\n",
    "#Create new data frame with top 5 performing schools based on overall passing rate\n",
    "\n",
    "top_performing_df = school_summary_sorted_descending_df.head()\n",
    "top_performing_df"
   ]
  },
  {
   "cell_type": "code",
   "execution_count": null,
   "metadata": {},
   "outputs": [],
   "source": [
    "\n",
    "#Create new data frame with bottom 5 performing schools based on overall passing rate\n",
    "\n",
    "schoolsummary_df.sort_values (\"Overall Passing Rate\")\n",
    "school_summary_sorted_ascending_df = schoolsummary_df.sort_values (\"Overall Passing Rate\")\n",
    "bottom_performing_df = school_summary_sorted_ascending_df.head()\n",
    "bottom_performing_df"
   ]
  }
 ]
}