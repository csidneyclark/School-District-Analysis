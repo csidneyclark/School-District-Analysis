{
 "metadata": {
  "language_info": {
   "codemirror_mode": {
    "name": "ipython",
    "version": 3
   },
   "file_extension": ".py",
   "mimetype": "text/x-python",
   "name": "python",
   "nbconvert_exporter": "python",
   "pygments_lexer": "ipython3",
   "version": "3.7.4-final"
  },
  "orig_nbformat": 2,
  "kernelspec": {
   "name": "python_defaultSpec_1600802520202",
   "display_name": "Python 3.7.4 64-bit ('base': conda)"
  }
 },
 "nbformat": 4,
 "nbformat_minor": 2,
 "cells": [
  {
   "cell_type": "code",
   "execution_count": 3,
   "metadata": {},
   "outputs": [],
   "source": [
    "import pandas as pd"
   ]
  },
  {
   "cell_type": "code",
   "execution_count": 4,
   "metadata": {},
   "outputs": [],
   "source": [
    "# File to Load\n",
    "school_data_to_load = \"schools_complete.csv\"\n",
    "student_data_to_load = \"students_complete.csv\"\n",
    "\n",
    "# Read School and Student Data File and store into Pandas Data Frames\n",
    "school_data = pd.read_csv(school_data_to_load)\n",
    "student_data = pd.read_csv(student_data_to_load)\n",
    "\n",
    "# Combine the data into a single dataset\n",
    "school_data_complete = pd.merge(student_data, school_data, how=\"left\", on=[\"school_name\", \"school_name\"])"
   ]
  },
  {
   "cell_type": "code",
   "execution_count": 7,
   "metadata": {},
   "outputs": [],
   "source": [
    "#District Summary variables\n",
    "\n",
    "#total_schools = school_data_complete[\"school_name\"].nunique()\n",
    "#total_students = len(school_data_complete[\"Student ID\"])\n",
    "#total_budget = school_data[\"budget\"].sum()\n",
    "#avg_mathscore = school_data_complete[\"math_score\"].mean()\n",
    "#avg_readingscore = school_data_complete[\"reading_score\"].mean()\n",
    "#percentpassmath = school_data_complete.loc[school_data_complete[\"math_score\"] >= 70, :]\n",
    "#district_passmath = (len(percentpassmath)/total_students)*100\n",
    "#percentpassreading = school_data_complete.loc[school_data_complete[\"reading_score\"] >= 70, :]\n",
    "#district_passreading = (len(percentpassreading)/total_students)*100\n",
    "#overallpassrate = (district_passmath + district_passreading)/2"
   ]
  },
  {
   "cell_type": "code",
   "execution_count": null,
   "metadata": {},
   "outputs": [],
   "source": []
  }
 ]
}